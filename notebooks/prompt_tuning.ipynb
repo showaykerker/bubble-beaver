{
 "cells": [
  {
   "cell_type": "markdown",
   "metadata": {},
   "source": [
    "# Translation Pipeline Prompt Tuning\n",
    "\n",
    "This notebook is for testing and tuning the translation prompts using test cases from our assets."
   ]
  },
  {
   "cell_type": "code",
   "execution_count": 1,
   "metadata": {},
   "outputs": [],
   "source": [
    "import sys\n",
    "import os\n",
    "from pathlib import Path\n",
    "\n",
    "# Add project root to Python path\n",
    "project_root = Path.cwd()\n",
    "sys.path.append(str(project_root))\n",
    "\n",
    "# Load environment variables\n",
    "from dotenv import load_dotenv\n",
    "load_dotenv(project_root / '.env')\n",
    "\n",
    "# Import required modules\n",
    "from src.translation.translator import Translator\n",
    "from src.prompts.base import TRANSLATION_PROMPT, SYSTEM_PROMPTS, SUPPORTED_LANGUAGES\n",
    "from src.testing.models import TestArtist  # Use TestArtist instead of Artist\n",
    "from data.sample_messages import ARTIST_PROMPTS, SAMPLE_MESSAGES, CONVERSATION_THREADS\n",
    "\n",
    "# Initialize translator\n",
    "translator = Translator(os.getenv('OPENAI_API_KEY'))"
   ]
  },
  {
   "cell_type": "markdown",
   "metadata": {},
   "source": [
    "## 1. Test Basic Translation\n",
    "\n",
    "Test translation of single messages from different artists."
   ]
  },
  {
   "cell_type": "code",
   "execution_count": null,
   "metadata": {},
   "outputs": [],
   "source": [
    "async def test_basic_translation():\n",
    "    for artist_name, messages in SAMPLE_MESSAGES.items():\n",
    "        print(f\"\\nTesting {artist_name}:\")\n",
    "        for message in messages:\n",
    "            print(f\"Original: {message['text']}\")\n",
    "            artist = TestArtist(\n",
    "                name=artist_name,\n",
    "                prompt={'prompt': ARTIST_PROMPTS[artist_name]}\n",
    "            )\n",
    "            response = await translator.translate(message['text'], artist, None)\n",
    "            print(f\"Translations: {response.translations}\")\n",
    "            print(f\"Metadata: {response.metadata}\")\n",
    "\n",
    "# Run the test\n",
    "await test_basic_translation()"
   ]
  },
  {
   "cell_type": "markdown",
   "metadata": {},
   "source": [
    "## 2. Test Context-Aware Translation\n",
    "\n",
    "Test translation of conversation threads to check context handling."
   ]
  },
  {
   "cell_type": "code",
   "execution_count": null,
   "metadata": {},
   "outputs": [],
   "source": [
    "from src.translation.schemas import TranslationContext\n",
    "\n",
    "async def test_context_translation():\n",
    "    for artist_name, cases in CONVERSATION_THREADS.items():\n",
    "        print(f\"\\nTesting {artist_name}:\")\n",
    "        artist = TestArtist(\n",
    "            name=artist_name,\n",
    "            prompt={'prompt': ARTIST_PROMPTS[artist_name]}\n",
    "        )\n",
    "\n",
    "        context_messages = []\n",
    "        for thread, msgs in cases.items():\n",
    "            for i, msg in enumerate(msgs):\n",
    "                print(f\"\\nMessage {i+1}:\")\n",
    "                print(f\"Context: {msg['context']}\")\n",
    "                print(f\"Original: {msg['text']}\")\n",
    "                \n",
    "                if context_messages:\n",
    "                    context = TranslationContext(\n",
    "                        messages=context_messages,\n",
    "                        current_message=msg['text']\n",
    "                    )\n",
    "                    response = await translator.translate_with_context(context, artist)\n",
    "                else:\n",
    "                    response = await translator.translate(msg['text'], artist, None)\n",
    "                \n",
    "                print(\"\\nTranslations:\")\n",
    "                for lang, trans in response.translations.items():\n",
    "                    print(f\"{lang}: {trans}\")\n",
    "                \n",
    "                # Add to context for next message\n",
    "                context_messages.append({\"role\": \"user\", \"content\": msg['text']})\n",
    "                context_messages.append({\n",
    "                    \"role\": \"assistant\",\n",
    "                    \"content\": f\"ENG: {response.translations['eng']}\\nZH-TW: {response.translations['zh-tw']}\"\n",
    "                })\n",
    "\n",
    "# Run the test\n",
    "await test_context_translation()"
   ]
  },
  {
   "cell_type": "markdown",
   "metadata": {},
   "source": [
    "## 3. Test Safety Checks\n",
    "\n",
    "Test the safety check system with various content types."
   ]
  },
  {
   "cell_type": "code",
   "execution_count": null,
   "metadata": {},
   "outputs": [],
   "source": [
    "\n",
    "async def test_safety_checks():\n",
    "    for artist_name, messages in SAMPLE_MESSAGES.items():\n",
    "        print(f\"\\nTesting {artist_name}:\")\n",
    "        for message in messages:\n",
    "            print(f\"Original: {message['text']}\")\n",
    "            artist = TestArtist(\n",
    "                name=artist_name,\n",
    "                prompt={'prompt': ARTIST_PROMPTS[artist_name]}\n",
    "            )\n",
    "            response = await translator.translate(message['text'], artist, None)\n",
    "            print(f\"Translations: {response.translations}\")\n",
    "            print(f\"Metadata: {response.metadata}\")\n",
    "            safety_results = await translator.safety_check(response.translations, artist)\n",
    "            print(f\"Safety results: {safety_results}\\n\\n\")\n",
    "    \n",
    "# Run the test\n",
    "await test_safety_checks()"
   ]
  },
  {
   "cell_type": "markdown",
   "metadata": {},
   "source": [
    "## 4. Custom Test Cases\n",
    "\n",
    "Add your own test cases here for specific scenarios."
   ]
  },
  {
   "cell_type": "code",
   "execution_count": null,
   "metadata": {},
   "outputs": [],
   "source": [
    "async def test_custom_case(artist_name: str, artist_prompt: str, message: str, context: str = None):\n",
    "    print(f\"Testing custom case for {artist_name}:\")\n",
    "    print(f\"Context: {context if context else 'None'}\")\n",
    "    print(f\"Original: {message}\")\n",
    "    \n",
    "    artist = Artist(name=artist_name, prompt={'prompt': artist_prompt})\n",
    "    response = await translator.translate(message, artist, None)\n",
    "    \n",
    "    print(\"\\nTranslations:\")\n",
    "    for lang, trans in response.translations.items():\n",
    "        print(f\"{lang}: {trans}\")\n",
    "    print(f\"\\nMetadata: {response.metadata}\")\n",
    "\n",
    "# Example usage:\n",
    "# custom_artist_name = \"Your Artist\"\n",
    "# custom_artist_prompt = \"Your artist prompt\"\n",
    "# custom_message = \"Your test message\"\n",
    "# await test_custom_case(custom_artist_name, custom_artist_prompt, custom_message)"
   ]
  }
 ],
 "metadata": {
  "kernelspec": {
   "display_name": "Python 3 (ipykernel)",
   "language": "python",
   "name": "python3"
  },
  "language_info": {
   "codemirror_mode": {
    "name": "ipython",
    "version": 3
   },
   "file_extension": ".py",
   "mimetype": "text/x-python",
   "name": "python",
   "nbconvert_exporter": "python",
   "pygments_lexer": "ipython3",
   "version": "3.9.21"
  }
 },
 "nbformat": 4,
 "nbformat_minor": 4
}
